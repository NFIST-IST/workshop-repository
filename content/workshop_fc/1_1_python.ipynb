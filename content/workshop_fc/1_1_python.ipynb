{
  "nbformat": 4,
  "nbformat_minor": 0,
  "metadata": {
    "colab": {
      "name": "1_1_python.ipynb",
      "provenance": [],
      "collapsed_sections": []
    },
    "kernelspec": {
      "name": "python3",
      "display_name": "Python 3"
    },
    "language_info": {
      "name": "python"
    }
  },
  "cells": [
    {
      "cell_type": "markdown",
      "metadata": {
        "id": "WC7wFilCLP9s"
      },
      "source": [
        "[![Open In Colab](https://colab.research.google.com/assets/colab-badge.svg)](https://colab.research.google.com/github/NFIST-IST/workshop-repository/blob/main/content/workshop_fc/1_1_python.ipynb)"
      ]
    },
    {
      "cell_type": "markdown",
      "metadata": {
        "id": "vB8U5yrnFaiC"
      },
      "source": [
        "# O que é a programação?\n"
      ]
    },
    {
      "cell_type": "markdown",
      "metadata": {
        "id": "dJ9ceca3-1_a"
      },
      "source": [
        "**De certeza que já ouviste este termo, ou outros equivalentes, mas sabes realmente o que é a programação?**\n",
        "\n",
        "Simplificando (talvez um pouco a mais), programar é uma forma de darmos instruções a um computador. A única coisa que um computador \"percebe\" são zeros e uns, mas, felizmente, já não temos que nos preocupar em aprender essa linguagem que se diz de \"baixo nível\". Uma linguagem de programação é criada de forma a servir de interface entre as instruções que um computador percebe e o que nos é conveniente e fácil de escrever. Às instruções que nós escrevemos é usual chamar de \"código\".\n",
        "\n",
        "**E porque é que existem várias linguagens de programação e qual é a diferença entre elas?**\n",
        "\n",
        "A enorme variedade de opções vem do facto de várias pessoas com objetivos diferentes terem desenvolvido ferramentas diferentes (podes pensar em como também existem várias línguas no mundo que foram evoluindo cada uma no seu sentido), mas estas são, fundamentalmente, equivalentes. \n",
        "\n",
        "Qualquer que seja o objetivo, muito provavelmente pode ser resolvido com a linguagem que escolheres. No entanto, haverá sempre algumas que serão mais ou menos adequadas (ninguém te impede de pregar um prego com uma chave de fendas, mas claramente não é a melhor maneira de o fazer). Outras diferenças podem ter a ver com o quão eficiente é a linguagem para traduzir as instruções de forma a que o computador as realize o mais rapidamente possível, ou a quantidade de trabalho e tempo que é preciso dispender para escrever o código.\n",
        "\n",
        " Será sempre necessário avaliar os compromissos necessários de fazer quando se escolhe uma linguagem em oposição a outra qualquer. \n",
        "\n",
        "**E para este workshop? O que vamos usar?**\n",
        "\n",
        "\n",
        " \n"
      ]
    },
    {
      "cell_type": "markdown",
      "metadata": {
        "id": "c-B9Yxvf-3gK"
      },
      "source": [
        "#Python"
      ]
    },
    {
      "cell_type": "markdown",
      "metadata": {
        "id": "XRBkVgNL-4oP"
      },
      "source": [
        "Neste workshop iremos utilizar a linguagem de programação Python. Esta, para além de bastante poderosa, é também muito fácil no que toca a escrever código, sendo o código, por vezes, muito semelhante a linguagem natural. Como é também uma linguagem muito popular, encontrarás na internet imensos conteúdos para aprenderes mais ou para te ajudarem a resolver os problemas que possam surgir."
      ]
    }
  ]
}