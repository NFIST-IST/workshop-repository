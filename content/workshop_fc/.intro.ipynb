{
  "nbformat": 4,
  "nbformat_minor": 0,
  "metadata": {
    "colab": {
      "name": "NFIST | Workshop FC",
      "provenance": [],
      "collapsed_sections": [
        "MMs2vhmzOeo5",
        "1hzipQjqd74e",
        "LzI9Q3cZVucR",
        "rw9hNUoxeQRc",
        "eXll-tWgfs-E",
        "hCkBaQgDYgyb",
        "s6xKlIDtVWBk"
      ],
      "include_colab_link": true
    },
    "kernelspec": {
      "display_name": "Python 3",
      "name": "python3"
    }
  },
  "cells": [
    {
      "cell_type": "markdown",
      "metadata": {
        "id": "view-in-github",
        "colab_type": "text"
      },
      "source": [
        "<a href=\"https://colab.research.google.com/github/bernardo-silva/Google-colab-notebooks/blob/main/NFIST_Workshop_FC.ipynb\" target=\"_parent\"><img src=\"https://colab.research.google.com/assets/colab-badge.svg\" alt=\"Open In Colab\"/></a>"
      ]
    },
    {
      "cell_type": "markdown",
      "metadata": {
        "id": "wTLM1Adrd60F"
      },
      "source": [
        "\n",
        "Python é uma linguagem de Programação de \"alto nível\", ou seja, a sua sintaxe é bastante parecida à linguagem corrente, permitindo assim uma leitura facilitada do código. Começemos por uma introdução aos básicos desta linguagem."
      ]
    },
    {
      "cell_type": "markdown",
      "metadata": {
        "id": "1hzipQjqd74e"
      },
      "source": [
        "# **Variáveis, Operações e Funções**"
      ]
    },
    {
      "cell_type": "markdown",
      "metadata": {
        "id": "LzI9Q3cZVucR"
      },
      "source": [
        "##Variáveis e Operações\n",
        "Os blocos principais de todas as linguagens de programação são as **variáveis**. Estas permitem guardar dados para serem posteriormente manipulados.\n",
        "```\n",
        "inteiro = 10\n",
        "decimal = 3.14\n",
        "texto = \"fisica\"\n",
        "```\n",
        "Vamos focar-nos em manipular números, inteiros ou decimais. Em Python, a maioria das operações e funções matemáticas encontram-se implementadas de raiz. Em baixo encontram-se alguns exemplos.\n"
      ]
    },
    {
      "cell_type": "code",
      "metadata": {
        "colab": {
          "base_uri": "https://localhost:8080/"
        },
        "id": "Bb4V8gEzsEw9",
        "outputId": "86f461b3-90bd-4582-a1e4-938f9d6f801e"
      },
      "source": [
        "# Definir as variáveis sobre as quais vamos atuar\n",
        "x = 3\n",
        "y = 5\n",
        "print(\"x = \", x)\n",
        "print(\"y = \", y)\n",
        "\n",
        "# Aplicar várias operações e imprimir o resultado\n",
        "print(\"Soma: x + y =\", x + y)\n",
        "print(\"Subtração: x - y =\", x - y)\n",
        "print(\"Mutiplicação: x * y =\", x * y)\n",
        "print(\"Divisão: x / y =\", x / y)\n",
        "print(\"Exponenciação: x ** y =\", x ** y)"
      ],
      "execution_count": null,
      "outputs": [
        {
          "output_type": "stream",
          "text": [
            "x =  3\n",
            "y =  5\n",
            "Soma: x + y = 8\n",
            "Subtração: x - y = -2\n",
            "Mutiplicação: x * y = 15\n",
            "Divisão: x / y = 0.6\n",
            "Exponenciação: x ** y = 243\n"
          ],
          "name": "stdout"
        }
      ]
    },
    {
      "cell_type": "markdown",
      "metadata": {
        "id": "fWB4_tkZXd64"
      },
      "source": [
        "No código acima, é de notar a existência de linhas começadas com um cardinal (#). Estas permitem escrever comentários a meio do código, ou seja, linhas que o programa irá simplesmente ignorar.\n"
      ]
    },
    {
      "cell_type": "markdown",
      "metadata": {
        "id": "8aQ1SjVPxTDZ"
      },
      "source": [
        "##Funções\n",
        "Num contexto de programação, uma função tem um papel muito semelhante a uma função matemática. Se considerarmos a função $f(x) = ax + b$, $x$ é o argumento da função, $f$ é o nome da função, e  valor de $ax+b$ será o seu \"resultado\".\n",
        "\n",
        "Em programação, mais específicamente em Python, podemos definir uma função da seguinte forma:"
      ]
    },
    {
      "cell_type": "code",
      "metadata": {
        "id": "AOw90zB0ylbZ"
      },
      "source": [
        "def nome_da_funcao(argumento1,argumento2):\n",
        "    #Efetuar as operações desejadas...\n",
        "    resultado = argumento1 + argumento2\n",
        "    return resultado\n"
      ],
      "execution_count": null,
      "outputs": []
    },
    {
      "cell_type": "markdown",
      "metadata": {
        "id": "HxksKRs9y6u3"
      },
      "source": [
        "Salienta-se o termo ```def```, que indica que vamos **def**inir uma função. Podemos atribuir-lhe o nome desejado e receber um número arbitrário de argumentos, neste exemplo usamos dois.\n",
        "\n",
        "A seguir à declaração do nome e dos argumentos, podemos efetuar todas as operações que desejarmos, e, por fim, quando tivermos o resultado, podemos retorná-lo usando a expressão ```return```.\n",
        "\n",
        "Quando quisermos usar uma função, apenas temos que fazer apenas:"
      ]
    },
    {
      "cell_type": "code",
      "metadata": {
        "colab": {
          "base_uri": "https://localhost:8080/"
        },
        "id": "bfCVQGAA0V2r",
        "outputId": "483fc2fb-512d-45aa-fea7-b5f8408e8d22"
      },
      "source": [
        "soma = nome_da_funcao(5,2)\n",
        "print(soma)"
      ],
      "execution_count": null,
      "outputs": [
        {
          "output_type": "stream",
          "text": [
            "7\n"
          ],
          "name": "stdout"
        }
      ]
    },
    {
      "cell_type": "markdown",
      "metadata": {
        "id": "WmX2RwdB0l3G"
      },
      "source": [
        "Aqui fornecemos os argumentos 5 e 2 à função, e guardamos o seu resultado na variável ```soma```."
      ]
    },
    {
      "cell_type": "markdown",
      "metadata": {
        "id": "j9Ma-euY1Vih"
      },
      "source": [
        "Anteriormente usamos a função ```print()```, que permite imprimir no ecrã resultados. As várias coisas que se pretendem imprimir deverão estar divididas por uma vírgula e texto deverá estar entre aspas. Esta função já está definida de raiz, ou seja, não necessitamos de a declarar, como fizemos para a função anterior.\n",
        "\n",
        "Por vezes necessitamos de usar funções que ainda não estão implementadas de raiz, mas que se podem encontrar numa biblioteca. Por exemplo, se quisermos usar funções matemáticas mais avançadas, podemos usar a biblioteca ```math```. Isto é feito através da seguinte linha de código:\n",
        "```\n",
        "import math\n",
        "```\n",
        "Uma biblioteca é um conjunto de comandos e funções definidos fora do ficheiro atual que podem ser utilizados após a sua importação. De notar que para utilizar esse códigos, estes devem estar precedidos por ```math.```\n",
        "\n",
        "Seguem alguns exemplo:"
      ]
    },
    {
      "cell_type": "code",
      "metadata": {
        "colab": {
          "base_uri": "https://localhost:8080/"
        },
        "id": "B3w4sSmbUHKE",
        "outputId": "f771c49e-e2a6-4ee7-bc27-d449431dbaf6"
      },
      "source": [
        "# Importar a biblioteca\n",
        "import math\n",
        "\n",
        "# Relembrar as variáveis definidas acima\n",
        "print(\"x = \", x)\n",
        "print(\"y = \", y)\n",
        "\n",
        "# Atuar nas variáveis com funções da biblioteca math\n",
        "print(\"Raiz Quadrada: math.sqrt(x) =\", math.sqrt(x))\n",
        "print(\"Exponencial (e^x): math.exp(x) =\", math.exp(x))\n",
        "print(\"Logaritmo de Base Natural: math.log(x) =\", math.log(x))\n",
        "print(\"Seno: math.sin(x) =\", math.sin(x))\n",
        "print(\"Cosseno: math.cos(x) =\", math.cos(x))"
      ],
      "execution_count": null,
      "outputs": [
        {
          "output_type": "stream",
          "text": [
            "x =  3\n",
            "y =  5\n",
            "Raiz Quadrada: math.sqrt(x) = 1.7320508075688772\n",
            "Exponencial (e^x): math.exp(x) = 20.085536923187668\n",
            "Logaritmo de Base Natural: math.log(x) = 1.0986122886681098\n",
            "Seno: math.sin(x) = 0.1411200080598672\n",
            "Cosseno: math.cos(x) = -0.9899924966004454\n"
          ],
          "name": "stdout"
        }
      ]
    },
    {
      "cell_type": "markdown",
      "metadata": {
        "id": "35nOGBWnePbP"
      },
      "source": [
        "Atenção que as funções trignométricas usam todas os argumentos em radianos!\n",
        "\n",
        "Esta biblioteca guarda também algumas constantes, como é exemplo π:\n",
        "```\n",
        "math.pi\n",
        "```\n",
        "Uma vez importada, não precisamos mais de a importar neste documento."
      ]
    },
    {
      "cell_type": "markdown",
      "metadata": {
        "id": "rw9hNUoxeQRc"
      },
      "source": [
        "# **Listas**"
      ]
    },
    {
      "cell_type": "markdown",
      "metadata": {
        "id": "ls2zidr0aWwC"
      },
      "source": [
        "Por vezes, é mais eficiente guardar muitas dados numa única variável. Para isso, usamos listas. Estas guardam $n$ variáveis em lugares numerados de 0 a $n-1$. As listas são definidas como:\n",
        "```\n",
        "lista = [13, 72, 23, 85]\n",
        "```\n",
        "As variáveis dentro dos parêntises retos são as variáveis que a lista irá guardar. Para aceder a um elemento, pode-se usar a notação:\n",
        "```\n",
        "print(lista[1])\n",
        "```\n",
        "Esta linha de código iria imprimir o valor na posição *1* da lista, ou seja, o número 72 (começa-se a contar do 0!!!).\n",
        "\n",
        "Analisemos o seguinte exemplo:"
      ]
    },
    {
      "cell_type": "code",
      "metadata": {
        "colab": {
          "base_uri": "https://localhost:8080/"
        },
        "id": "zW--RvwKclkT",
        "outputId": "2bc6a533-5c88-4241-e3ed-421c8f3436c5"
      },
      "source": [
        "# Inicialização da lista\n",
        "lista = [10, 20, 30, 40]\n",
        "\n",
        "# Aceder aos seus elementos\n",
        "print(\"O elemento na posição 2 é: \", lista[2])\n",
        "print(\"A lista toda impressa é: \", lista)\n",
        "print(\"O tamanho da lista pode ser obtido pelo comando len(lista), retornando:\", len(lista))\n",
        "\n",
        "# Adicionar uma variável à lista\n",
        "lista.append(50)\n",
        "print(\"Foi adicionada uma variável à lista!\")\n",
        "print(\"A lista toda impressa é: \", lista)\n",
        "print(\"O tamanho da lista pode ser obtido pelo comando len(lista), retornando:\", len(lista))\n",
        "\n",
        "# Alterar uma das entradas da lista\n",
        "lista[2] = lista[2] + 5\n",
        "print(\"Foi somado 5 ao elemento 2 da lista.\")\n",
        "print(\"A lista toda impressa é: \", lista)"
      ],
      "execution_count": null,
      "outputs": [
        {
          "output_type": "stream",
          "text": [
            "O elemento na posição 2 é:  30\n",
            "A lista toda impressa é:  [10, 20, 30, 40]\n",
            "O tamanho da lista pode ser obtido pelo comando len(lista), retornando: 4\n",
            "Foi adicionada uma variável à lista!\n",
            "A lista toda impressa é:  [10, 20, 30, 40, 50]\n",
            "O tamanho da lista pode ser obtido pelo comando len(lista), retornando: 5\n",
            "Foi somado 5 ao elemento 2 da lista.\n",
            "A lista toda impressa é:  [10, 20, 35, 40, 50]\n"
          ],
          "name": "stdout"
        }
      ]
    },
    {
      "cell_type": "markdown",
      "metadata": {
        "id": "m_rlwmicfAuf"
      },
      "source": [
        "Podemos então resumir algumas funcionalidades das listas:\n",
        "* Definição inicial da lista (pode ou não começar vazia)\n",
        "```\n",
        "lista = []\n",
        "```\n",
        "* Adicionar um elemento ao final da lista\n",
        "```\n",
        "lista.append(10)\n",
        "```\n",
        "* Aceder a um elemento da lista (as posições começam a contar de 0!!!)\n",
        "```\n",
        "lista[1]\n",
        "```\n",
        "* Obter o tamanho da lista\n",
        "```\n",
        "len(lista)\n",
        "```"
      ]
    },
    {
      "cell_type": "markdown",
      "metadata": {
        "id": "eXll-tWgfs-E"
      },
      "source": [
        "# ***For Loops***"
      ]
    },
    {
      "cell_type": "markdown",
      "metadata": {
        "id": "U9f0dzTgf1Ew"
      },
      "source": [
        "Imaginemos que queremos criar uma lista com todos os números inteiros menores que 100. Ninguém teria tempo para escrever todos os números à mão. De modo a resolver este problema, podemos criar código que se repete *n* vezes de modo a permitir obter um código mais limpo, eficiente e organizado.\n",
        "\n",
        "Começemos por ilustrar este exemplo com um *for loop*. A sua sintaxe é:\n",
        "```\n",
        "for {variável} in range({máximo}):\n",
        "  {código a executar}\n",
        "```\n",
        "Este fragmento de código iria executar o *{código a executar}* percorrendo a *{variável}* de *0* a *{máximo}*.\n",
        "\n",
        "Exemplifiquemos com o caso em particular:"
      ]
    },
    {
      "cell_type": "code",
      "metadata": {
        "colab": {
          "base_uri": "https://localhost:8080/"
        },
        "id": "MMxkCLd6gZ5w",
        "outputId": "4f694380-769b-4d4d-fae0-209b533a2de1"
      },
      "source": [
        "# Inicializar a lista que queremos preencher\n",
        "lista = []\n",
        "\n",
        "# Usar um for loop para a preencher\n",
        "for i in range(25):\n",
        "  lista.append(i)\n",
        "\n",
        "print(lista)"
      ],
      "execution_count": null,
      "outputs": [
        {
          "output_type": "stream",
          "text": [
            "[0, 1, 2, 3, 4, 5, 6, 7, 8, 9, 10, 11, 12, 13, 14, 15, 16, 17, 18, 19, 20, 21, 22, 23, 24]\n"
          ],
          "name": "stdout"
        }
      ]
    },
    {
      "cell_type": "markdown",
      "metadata": {
        "id": "gWkTUu0FiEa3"
      },
      "source": [
        "Deste modo, foi possível preencher a lista com todos estes números facilemente. Reparamos que o código identado depois da linha do ```for``` foi corrido *100* vezes, aumentando de cada vez o valor de ```i```.\n",
        "\n",
        "Existe uma notação mais compacta para a operação feita anteriormente:\n",
        "\n",
        "```\n",
        "lista = [i for i in range(25)]\n",
        "```\n",
        "\n",
        "\n",
        "Um ciclo ```for``` pode ainda percorrer todos os elementos de uma lista, tal como no exemplo seguinte:\n",
        "\n",
        " Vamos agora multiplicar todos os números por 2 e imprimir cada um numa linha:"
      ]
    },
    {
      "cell_type": "code",
      "metadata": {
        "colab": {
          "base_uri": "https://localhost:8080/"
        },
        "id": "j7rRlGhGikfh",
        "outputId": "d2814398-878d-48f0-feef-bc13ca4b1eb8"
      },
      "source": [
        "# Usar a lista já definida acima\n",
        "for elemento in lista:\n",
        "  elemento = elemento * 2\n",
        "  print(\"Entrada\", 1, \"é\", elemento)\n",
        "print(\"Já está!\",lista)"
      ],
      "execution_count": null,
      "outputs": [
        {
          "output_type": "stream",
          "text": [
            "Entrada 1 é 0\n",
            "Entrada 1 é 2\n",
            "Entrada 1 é 4\n",
            "Entrada 1 é 6\n",
            "Entrada 1 é 8\n",
            "Entrada 1 é 10\n",
            "Entrada 1 é 12\n",
            "Entrada 1 é 14\n",
            "Entrada 1 é 16\n",
            "Entrada 1 é 18\n",
            "Entrada 1 é 20\n",
            "Entrada 1 é 22\n",
            "Entrada 1 é 24\n",
            "Entrada 1 é 26\n",
            "Entrada 1 é 28\n",
            "Entrada 1 é 30\n",
            "Entrada 1 é 32\n",
            "Entrada 1 é 34\n",
            "Entrada 1 é 36\n",
            "Entrada 1 é 38\n",
            "Entrada 1 é 40\n",
            "Entrada 1 é 42\n",
            "Entrada 1 é 44\n",
            "Entrada 1 é 46\n",
            "Entrada 1 é 48\n",
            "Já está! [0, 1, 2, 3, 4, 5, 6, 7, 8, 9, 10, 11, 12, 13, 14, 15, 16, 17, 18, 19, 20, 21, 22, 23, 24]\n"
          ],
          "name": "stdout"
        }
      ]
    },
    {
      "cell_type": "markdown",
      "metadata": {
        "id": "trKc-p-qi4qx"
      },
      "source": [
        "Começamos por reparar que a agora a variável ```i``` percorre os números de 0 até ao número de elementos da lista, exatamente como pretendemos. Por outro lado, em vez de correr apenas uma linha de código a cada iteração, 2 linhas distintas são corridas. Qualquer número de linhas de código pode ser corrido dentro de um *for loop* desde que esssas linhas estejam identadas. A linha 5 do código acima apenas corre depois do *loop* porque não está identada."
      ]
    },
    {
      "cell_type": "markdown",
      "metadata": {
        "id": "hCkBaQgDYgyb"
      },
      "source": [
        "# ***While Loops***"
      ]
    },
    {
      "cell_type": "markdown",
      "metadata": {
        "id": "arLfvCOXpSmp"
      },
      "source": [
        "Vimos que usando os *for loops* podemos executar um grande número de instruções com um reduzido número de linhas de código. No entanto, é por vezes útil que este código seja executado *enquanto* se verifica uma dada condição. Para tal temos os *while loops*. A sua sintaxe é a seguinte:\n",
        "\n",
        "```\n",
        "while {condição}:\n",
        "  {código a executar}\n",
        "```\n",
        "\n",
        "Agora, em vez de percorrer os elementos de uma lista, o nosso programa verifica a condição, e executa o código dentro do loop enquanto esta se veerificar. \n",
        "\n",
        "Exemplificamos, construindo a mesma lista que anteriormente:"
      ]
    },
    {
      "cell_type": "code",
      "metadata": {
        "colab": {
          "base_uri": "https://localhost:8080/"
        },
        "id": "PkYGgJNHqqP-",
        "outputId": "5351f460-caaa-405f-e253-cbb825081ba0"
      },
      "source": [
        "# Inicializar a lista que queremos preencher\n",
        "lista = []\n",
        "\n",
        "# Usar um while loop para a preencher\n",
        "i=0\n",
        "while i<25:\n",
        "  lista.append(i)\n",
        "  i=i+1\n",
        "\n",
        "print(lista)"
      ],
      "execution_count": null,
      "outputs": [
        {
          "output_type": "stream",
          "text": [
            "[0, 1, 2, 3, 4, 5, 6, 7, 8, 9, 10, 11, 12, 13, 14, 15, 16, 17, 18, 19, 20, 21, 22, 23, 24]\n"
          ],
          "name": "stdout"
        }
      ]
    },
    {
      "cell_type": "markdown",
      "metadata": {
        "id": "fxyAP6Coq4RK"
      },
      "source": [
        "Mais uma vez, o código dentro do loop deve estar corretamente identado."
      ]
    },
    {
      "cell_type": "markdown",
      "metadata": {
        "id": "s6xKlIDtVWBk"
      },
      "source": [
        "# ***Matplotlib***"
      ]
    },
    {
      "cell_type": "markdown",
      "metadata": {
        "id": "0VDA_BThWApe"
      },
      "source": [
        "No Python, muito do código necessário para a execução de um grande número de tarefas já se encontra desenvolvido, e organizado em **Módulos**, que podem ser incluidos em qualquer programa. Um exemplo é o módulo *math*, usado anteriormente. A sua inclusão é feita através do comando:\n",
        "```\n",
        "import modulo\n",
        "```\n",
        "O *Matplotlib* é um módulo bastante útil, que permita a criação de uma interface gráfica para representação de dados. Vamos ver alguns exemplos."
      ]
    },
    {
      "cell_type": "code",
      "metadata": {
        "colab": {
          "base_uri": "https://localhost:8080/",
          "height": 279
        },
        "id": "i9oQIlIJbI-J",
        "outputId": "a5ddd152-3c77-4d64-b162-008ef45c6972"
      },
      "source": [
        "import matplotlib.pyplot as plt\n",
        "\n",
        "#Listas com dados que queremos representar\n",
        "x1 = [0,1,2,3,4,5,6,7,8]\n",
        "y1 = [0,1,4,9,16,25,36,49,64]\n",
        "x2 = [0,1,2,3,4]\n",
        "y2 = [0,1,8,27,64]\n",
        "x3 = [0.01*x for x in range(500)]\n",
        "y3 = [x**2.5 for x in x3]\n",
        "\n",
        "plt.scatter(x1,y1)\n",
        "plt.plot(x2,y2, color=\"red\", marker=\"o\")\n",
        "plt.plot(x3,y3, color=\"orange\", linestyle=\"--\", linewidth=7)\n",
        "\n",
        "plt.xlabel(\"x\")\n",
        "plt.ylabel(\"y\")\n",
        "\n",
        "plt.show()"
      ],
      "execution_count": null,
      "outputs": [
        {
          "output_type": "display_data",
          "data": {
            "image/png": "[encoded data removed]",
            "text/plain": [
              "<Figure size 432x288 with 1 Axes>"
            ]
          },
          "metadata": {
            "tags": [],
            "needs_background": "light"
          }
        }
      ]
    },
    {
      "cell_type": "markdown",
      "metadata": {
        "id": "98yrul2_e6fX"
      },
      "source": [
        "Como podemos observar, os dados, na forma de listas, são representados através das funções *scatter* e *plot*, cujos argumentos são, para além destas, definições relacionadas com o estilo do gráfico, como a cor e grossura da linha, ou o tipo de *marker*."
      ]
    },
    {
      "cell_type": "code",
      "metadata": {
        "colab": {
          "base_uri": "https://localhost:8080/",
          "height": 286
        },
        "id": "GSguE_oIe5sK",
        "outputId": "51576ab1-ac8f-4094-9045-1ee8d35c5d88"
      },
      "source": [
        "plt.scatter([.5],[.5], c='gold', s=45000)\n",
        "#plt.scatter([.38, .62], [.63, .63], c='red', s=1000)\n",
        "plt.scatter([.38, .62], [.63, .63], c='red', s=1000, marker=\"3\", lw=10)\n",
        "\n",
        "X = [0.3+0.004*i for i in range(100)]\n",
        "Y = [2* (x-.5)**2 +0.22 for x in X]\n",
        "plt.plot(X, Y, c='black', linewidth=8)\n",
        "X2 = [0.3+0.004*i for i in range(100)]\n",
        "Y2 = [-2* (x-.5)**2 +0.38 for x in X]\n",
        "plt.plot(X2, Y2, c='black', linewidth=8)\n",
        "\n",
        "plt.xlim(0,1)\n",
        "plt.ylim(0,1)\n"
      ],
      "execution_count": null,
      "outputs": [
        {
          "output_type": "execute_result",
          "data": {
            "text/plain": [
              "(0.0, 1.0)"
            ]
          },
          "metadata": {
            "tags": []
          },
          "execution_count": 10
        },
        {
          "output_type": "display_data",
          "data": {
            "image/png": "[encoded data removed]",
            "text/plain": [
              "<Figure size 432x288 with 1 Axes>"
            ]
          },
          "metadata": {
            "tags": [],
            "needs_background": "light"
          }
        }
      ]
    },
    {
      "cell_type": "markdown",
      "metadata": {
        "id": "2OAh8fMtPI6V"
      },
      "source": [
        "# **Métodos de Resolução Numérica de Equações Diferenciais**\n",
        "\n",
        "---\n",
        "\n",
        "\n",
        "\n",
        "\n"
      ]
    },
    {
      "cell_type": "markdown",
      "metadata": {
        "id": "RYlO4Ki0PyIX"
      },
      "source": [
        "O propóstio da Física é a descrição do mundo que nos rodeia. A linguagem na qual o faz é a Matemática. Interessa por isso olhar para a linguagem das Equações Diferenciais usada para descrever sistemas físicos."
      ]
    },
    {
      "cell_type": "markdown",
      "metadata": {
        "id": "JHacHPWkm9z0"
      },
      "source": [
        "# ***Derivadas e Equações Diferenciais***\n",
        "\n"
      ]
    },
    {
      "cell_type": "markdown",
      "metadata": {
        "id": "aVXoa-YH48RW"
      },
      "source": [
        "\n",
        "\n",
        "*   **Funções** são objetos matemáticos que consistem numa *regra* que associa a cada elemento (objeto) de um conjunto A, um dado elemento (imagem) de um conjunto B;\n",
        "*   **Funções Reais de Variável Real** são funções que transformam números reais em números reais. Podem ser usadas para descrever grandezas físicas como o comprimento de uma mola $l$ em função do tempo $t$: $l(t)$, ou a Temperatura $T$ em diferentes pontos $x$ de uma barra $T(x)$. É claro que neste último caso a Temperatura também pode variar com o tempo e é então um função de 2 variáveis $T(x,t)$. Adicionalmente, se a temperatura depender da posição $y$ ou $z$ da barra temos $T(x,y,z,t)$ uma função das 3 coordenadas espaciais e da coordenada temporal.\n",
        "\n",
        "  ![mola.png](data:image/png;base64,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)\n",
        "\n",
        "\n",
        "\n",
        "* **Limites** de funções são o conceito básico da Análise Matemática. Dizemos que uma função $f(x)$ tem limite $L$ quando o seu argumento tende para um ponto $x=a$: $x \\rightarrow a$ se conseguimos que o seu valor seja arbitrariamente próximo de $L$ fazendo $x$ suficientemente próximo de $a$.\n",
        "\n",
        "* **Derivadas** de funções num ponto são dadas pelo limite da razão incremental:\n",
        "    \n",
        "    $f'(x_0) = \\lim_{x\\rightarrow x_0} \\frac{f(x)-f(x_0)}{x-x_0} = \\lim_{h\\rightarrow0} \\frac{f(x_0+h)-f(x)}{h} = \\lim \\frac{\\Delta f}{\\Delta x} =  \\frac{df}{dx}$\n",
        "\n",
        "  Podemos então ver, que se este limite existir (diz-se que a função é **diferenciável**), pela definição de limite, quando estamos próximos do ponto (quão próximos? o suficiente) o valor de $\\dfrac{\\Delta f}{\\Delta x}$ é arbitrariamente (tanto quanto queiramos) próximo de um número $m=f'(x_0)$, a derivada no ponto. Então, perto de um ponto diferenciável temos $\\Delta f \\approx m \\times \\Delta x \\leftrightarrow f(x) = f(x_0) + m \\times (x-x_0)$, ou seja, a função é aproximadamente *linear* (uma reta), localmente (perto de $x_0$), que vale $f(x_0)$ em $x=x_0$ (obviamente) e tem declive igual à derivada no ponto $f'(x_0)$.\n",
        "  A derivada de ordem 2 $f''(x) = \\dfrac{d^2f}{dx^2}$ é a derivada da derivada, e assim sucessivamente para ordens superiores.\n",
        "\n",
        "  ![derivada.png](data:image/png;base64,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)\n",
        "\n",
        "\n",
        "* **Equações Diferenciais**. \n",
        "  As equações a que estão habituados são coisas do tipo: $ x^2 - 3x +2 = 0$, ou seja, igualdades com incógnitas, neste caso x, para as quais queremos achar a solução (o valor que torna a igualdade verdadeira). Neste exemplo temos duas soluções: $x=1$ e $x=2$.\n",
        "  \n",
        "  Por sua vez, as equações diferenciais, são igualdades que envolvem derivadas, em que o objetivo é encontrar não um número mas uma função que as satisfaça, como por exemplo:\n",
        "  - $f'(x) = 2f(x)$\n",
        "  - $f''(x) + 7f'(x) + \\dfrac{1}{3}f(x) = 4$\n",
        "  - $f''(x) \\times f'(x) = 2$\n",
        "  \n",
        "  Para funções de múltiplas variáveis, poderemos ter equações que envolvem derivadas em ordem a diferentes destas variáveis (que podem ser como vimos,  tempo t e a posição x). Um exemplo que aparece na física é:\n",
        "\n",
        "  - $\\dfrac{df}{dt} = \\dfrac{d^2f}{dx^2}$\n",
        "\n",
        "* **Lei de Newton**\n",
        "  Quando se trata de descrever a posição de uma massa *m* em função do tempo, a equação clássica que descreve este movimento é a conhecida segunda lei de Newton:\n",
        "  \n",
        "  $\\vec{F}= m \\vec{a}$\n",
        "\n",
        "  Os vetores representam que na verdade estamos perante 3 equações para as 3 direções espaciais: $F_x = m a_x$, $F_y = m a_y$ e $F_z = m a_z$. Sabendo as forças aplicadas num corpo podemos substituir nesta equação, ficando com a equação diferencial cuja solução $\\vec{r}(t) = (x(t),y(t),z(t))$ é a posição do corpo ao longo do tempo. Usaremos esta lei no primeiro exemplo\n"
      ]
    },
    {
      "cell_type": "markdown",
      "metadata": {
        "id": "TOyVPseWnKin"
      },
      "source": [
        "# ***Diferenças Finitas e Método de Euler***\n"
      ]
    },
    {
      "cell_type": "markdown",
      "metadata": {
        "id": "R9H1ShpCGvpR"
      },
      "source": [
        "-dizer que aproximacao as derivadas sao diferencas finitas\n",
        "\n",
        "-com computadores podemos aproximar esse calculo da solucao verdadeira\n",
        "\n",
        "-dizer q isso se chama metodo de euler: escrever exemplo simples geral de 1a ordem f'(x) = F(x,f)\n",
        "\n",
        "-descrever sistema da mola: forca de hooke, eq 1d do movimento e como fica euler p eq de ordem 2"
      ]
    }
  ]
}
