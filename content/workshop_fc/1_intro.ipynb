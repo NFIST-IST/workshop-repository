{
  "nbformat": 4,
  "nbformat_minor": 0,
  "metadata": {
    "colab": {
      "name": "1_intro.ipynb",
      "provenance": [],
      "collapsed_sections": []
    },
    "kernelspec": {
      "name": "python3",
      "display_name": "Python 3"
    },
    "language_info": {
      "name": "python"
    }
  },
  "cells": [
    {
      "cell_type": "markdown",
      "metadata": {
        "id": "cldwTIAeFxmB"
      },
      "source": [
        "#Introdução"
      ]
    },
    {
      "cell_type": "markdown",
      "metadata": {
        "id": "o8xj20RqK5_N"
      },
      "source": [
        "Bem-vindo ao Workshop de Física Computacional. Este workshop foi preparado para alunos do secundário, e tem como objetivos ensinar alguns conceitos básicos de programação e de mostrar como podemos utilizar um computador para resolver problemas físicos.\n",
        "\n",
        "Não é necessário qualquer tipo de conhecimento anterior para além de conceitos básicos das leis que regem o movimentos dos corpos e alguma matemática. Poderemos apresentar algumas ideias que só conhecerás no 12° ano, por exemplo. Quando o fizermos, estas estarão bem identificadas e poderás voltar a elas mais tarde, quando aprenderes os conceitos.\n",
        "\n"
      ]
    },
    {
      "cell_type": "markdown",
      "metadata": {
        "id": "y4_nxEyXLBRL"
      },
      "source": [
        "## Estrutura do Workshop\n",
        "\n"
      ]
    },
    {
      "cell_type": "markdown",
      "metadata": {
        "id": "EzwrwR1dLCdf"
      },
      "source": [
        "O workshop encontra-se dividido em várias partes e no final de cada uma encontrarás links para as anteriores e seguintes. \n",
        "\n",
        "Irás encontrar alguns desafios ao longo do workshop cuja solução poderás encontrar no final do mesmo.\n",
        "\n"
      ]
    },
    {
      "cell_type": "markdown",
      "metadata": {
        "id": "2bGeeNxrLDo3"
      },
      "source": [
        "## Ferramentas a Utilizar\n"
      ]
    },
    {
      "cell_type": "markdown",
      "metadata": {
        "id": "vYS3W615LEZk"
      },
      "source": [
        "Iremos utilizar Notebooks de Python, através de uma plataforma chamada Google Collab. Na secção seguinte terás toda a informação que precisas para aprenderes a trabalhar com esta."
      ]
    }
  ]
}